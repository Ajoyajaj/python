{
 "cells": [
  {
   "cell_type": "code",
   "execution_count": 7,
   "id": "1bc16bb4",
   "metadata": {},
   "outputs": [
    {
     "name": "stdout",
     "output_type": "stream",
     "text": [
      "value of x and y after swapping: 10 and 5\n"
     ]
    }
   ],
   "source": [
    "#swapping\n",
    "x=5\n",
    "y=10\n",
    "x,y=y,x\n",
    "print(\"value of x and y after swapping:\",x,\"and\",y)"
   ]
  },
  {
   "cell_type": "code",
   "execution_count": 6,
   "id": "637629af",
   "metadata": {},
   "outputs": [
    {
     "name": "stdout",
     "output_type": "stream",
     "text": [
      "area of rectangle: 50\n"
     ]
    }
   ],
   "source": [
    "#to calculate area of rectangle\n",
    "length=10\n",
    "breadth=5\n",
    "\n",
    "area = length * breadth\n",
    "print(\"area of rectangle:\",area)"
   ]
  },
  {
   "cell_type": "code",
   "execution_count": 10,
   "id": "2cd05274",
   "metadata": {},
   "outputs": [
    {
     "name": "stdout",
     "output_type": "stream",
     "text": [
      "temperature in celsius:37.5\n",
      "temparature in fahrenheit: 99.5\n"
     ]
    }
   ],
   "source": [
    "#converting celcius to fharenhiet\n",
    "celsius = float(input(\"temperature in celsius:\"))\n",
    "fahrenheit = (celsius * 1.8) + 32\n",
    "print(\"temparature in fahrenheit:\",fahrenheit)"
   ]
  },
  {
   "cell_type": "code",
   "execution_count": 13,
   "id": "de6b9e43",
   "metadata": {},
   "outputs": [
    {
     "name": "stdout",
     "output_type": "stream",
     "text": [
      "enter the string:sweet\n",
      "length of the string sweet is 5\n"
     ]
    }
   ],
   "source": [
    "#string length\n",
    "str = input(\"enter the string:\")\n",
    "counter = 0\n",
    "for s in str:\n",
    "    counter = counter + 1\n",
    "print(\"length of the string\",str,\"is\",counter)\n"
   ]
  },
  {
   "cell_type": "code",
   "execution_count": 21,
   "id": "39ab4c86",
   "metadata": {},
   "outputs": [
    {
     "name": "stdout",
     "output_type": "stream",
     "text": [
      "enter the sentence:Hi I am Ajoy\n",
      "hi i am ajoy\n",
      "number of vowels in sentence: 5\n"
     ]
    }
   ],
   "source": [
    "#find vowels\n",
    "sentence = input(\"enter the sentence:\")\n",
    "string = sentence.lower()\n",
    "print(string)\n",
    "count=0\n",
    "list1=[\"a\",\"e\",\"i\",\"o\",\"u\"]\n",
    "for char in string:\n",
    "    if char in list1:\n",
    "        count = count+1\n",
    "\n",
    "print(\"number of vowels in sentence:\",count)\n"
   ]
  },
  {
   "cell_type": "code",
   "execution_count": 23,
   "id": "386e2502",
   "metadata": {},
   "outputs": [
    {
     "name": "stdout",
     "output_type": "stream",
     "text": [
      "enter a string:what to do\n",
      "reverse string is: od ot tahw\n"
     ]
    }
   ],
   "source": [
    "#reverse string\n",
    "s=input(\"enter a string:\")\n",
    "str=\"\"\n",
    "for i in s:\n",
    "    str=i+str\n",
    "print(\"reverse string is:\",str)"
   ]
  },
  {
   "cell_type": "code",
   "execution_count": 28,
   "id": "cc8390d8",
   "metadata": {},
   "outputs": [
    {
     "name": "stdout",
     "output_type": "stream",
     "text": [
      "enter string:madam\n",
      "madam is a palindrome\n"
     ]
    }
   ],
   "source": [
    "#palindrome\n",
    "n=input(\"enter string:\")\n",
    "if n == n[::-1]:\n",
    "    print(n+\" is a palindrome\")\n",
    "else:\n",
    "    print(n+\" is not palindrome\")"
   ]
  },
  {
   "cell_type": "code",
   "execution_count": 30,
   "id": "6e15c94e",
   "metadata": {},
   "outputs": [
    {
     "name": "stdout",
     "output_type": "stream",
     "text": [
      "howareyou\n"
     ]
    }
   ],
   "source": [
    "#remove space\n",
    "str1 = \"how are you\"\n",
    "str2 = str1.replace(\" \",\"\")\n",
    "print(str2)"
   ]
  }
 ],
 "metadata": {
  "kernelspec": {
   "display_name": "Python 3 (ipykernel)",
   "language": "python",
   "name": "python3"
  },
  "language_info": {
   "codemirror_mode": {
    "name": "ipython",
    "version": 3
   },
   "file_extension": ".py",
   "mimetype": "text/x-python",
   "name": "python",
   "nbconvert_exporter": "python",
   "pygments_lexer": "ipython3",
   "version": "3.11.4"
  }
 },
 "nbformat": 4,
 "nbformat_minor": 5
}
